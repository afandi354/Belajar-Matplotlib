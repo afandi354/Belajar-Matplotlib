{
 "cells": [
  {
   "cell_type": "markdown",
   "metadata": {
    "slideshow": {
     "slide_type": "slide"
    }
   },
   "source": [
    "# Membuat Multiple Line Chart"
   ]
  },
  {
   "cell_type": "markdown",
   "metadata": {
    "slideshow": {
     "slide_type": "fragment"
    }
   },
   "source": [
    "![Contoh Multiple Line Chart](https://storage.googleapis.com/cdn.thenewstack.io/media/2018/02/a47f6c8d-newthing.svg)"
   ]
  },
  {
   "cell_type": "markdown",
   "metadata": {
    "slideshow": {
     "slide_type": "slide"
    }
   },
   "source": [
    "## Masukan Library yang diperlukan"
   ]
  },
  {
   "cell_type": "code",
   "execution_count": 2,
   "metadata": {
    "slideshow": {
     "slide_type": "fragment"
    }
   },
   "outputs": [],
   "source": [
    "import matplotlib.pyplot as plt\n",
    "import pickle"
   ]
  },
  {
   "cell_type": "markdown",
   "metadata": {
    "slideshow": {
     "slide_type": "slide"
    }
   },
   "source": [
    "## Load Data (Programming Language Popularity)"
   ]
  },
  {
   "cell_type": "code",
   "execution_count": 3,
   "metadata": {
    "slideshow": {
     "slide_type": "fragment"
    }
   },
   "outputs": [],
   "source": [
    "with open('prog-langs-popularity.pickle', 'rb') as f:\n",
    "    data= pickle.load(f)"
   ]
  },
  {
   "cell_type": "markdown",
   "metadata": {
    "slideshow": {
     "slide_type": "slide"
    }
   },
   "source": [
    "## Tampilkan Data"
   ]
  },
  {
   "cell_type": "code",
   "execution_count": 4,
   "metadata": {
    "slideshow": {
     "slide_type": "fragment"
    }
   },
   "outputs": [
    {
     "name": "stdout",
     "output_type": "stream",
     "text": [
      "[('Java', [(2018, 1), (2013, 2), (2008, 1), (2003, 1), (1998, 16)]), ('C', [(2018, 2), (2013, 1), (2008, 2), (2003, 2), (1998, 1), (1993, 1), (1988, 1)]), ('C++', [(2018, 3), (2013, 4), (2008, 3), (2003, 3), (1998, 2), (1993, 2), (1988, 4)]), ('Python', [(2018, 4), (2013, 7), (2008, 6), (2003, 11), (1998, 23), (1993, 17)])]\n"
     ]
    }
   ],
   "source": [
    "print(data)"
   ]
  },
  {
   "cell_type": "markdown",
   "metadata": {
    "slideshow": {
     "slide_type": "slide"
    }
   },
   "source": [
    "## Split Tuple Python menjadi 2 data"
   ]
  },
  {
   "cell_type": "code",
   "execution_count": 5,
   "metadata": {
    "slideshow": {
     "slide_type": "fragment"
    }
   },
   "outputs": [],
   "source": [
    "languages, rangkings = zip(*data)"
   ]
  },
  {
   "cell_type": "markdown",
   "metadata": {
    "slideshow": {
     "slide_type": "slide"
    }
   },
   "source": [
    "## Tampilkan Hasil Split"
   ]
  },
  {
   "cell_type": "code",
   "execution_count": 6,
   "metadata": {
    "scrolled": true,
    "slideshow": {
     "slide_type": "fragment"
    }
   },
   "outputs": [
    {
     "name": "stdout",
     "output_type": "stream",
     "text": [
      "('Java', 'C', 'C++', 'Python')\n",
      "([(2018, 1), (2013, 2), (2008, 1), (2003, 1), (1998, 16)], [(2018, 2), (2013, 1), (2008, 2), (2003, 2), (1998, 1), (1993, 1), (1988, 1)], [(2018, 3), (2013, 4), (2008, 3), (2003, 3), (1998, 2), (1993, 2), (1988, 4)], [(2018, 4), (2013, 7), (2008, 6), (2003, 11), (1998, 23), (1993, 17)])\n"
     ]
    }
   ],
   "source": [
    "print(languages)\n",
    "print(rangkings)"
   ]
  },
  {
   "cell_type": "markdown",
   "metadata": {
    "slideshow": {
     "slide_type": "slide"
    }
   },
   "source": [
    "##  Lakukan Iterasi Pada Semua Bahasa Pemrograman dan Tampilkan Visualisasi Datanya"
   ]
  },
  {
   "cell_type": "code",
   "execution_count": 7,
   "metadata": {
    "slideshow": {
     "slide_type": "fragment"
    }
   },
   "outputs": [
    {
     "data": {
      "image/png": "[encoded data removed]",
      "text/plain": [
       "<Figure size 432x288 with 1 Axes>"
      ]
     },
     "metadata": {
      "needs_background": "light"
     },
     "output_type": "display_data"
    }
   ],
   "source": [
    "for i in range(len(languages)):\n",
    "    # Split Data Tuple (Tahun & Rangking)\n",
    "    years, ranks = zip(*rangkings[i])\n",
    "    plt.plot(years, ranks)\n",
    "    \n",
    "plt.legend(languages)\n",
    "plt.xlabel('Year')\n",
    "plt.ylabel('Rangking')\n",
    "plt.title('Rangkings of Programming Languages')\n",
    "plt.show()"
   ]
  },
  {
   "cell_type": "code",
   "execution_count": null,
   "metadata": {},
   "outputs": [],
   "source": []
  }
 ],
 "metadata": {
  "celltoolbar": "Slideshow",
  "kernelspec": {
   "display_name": "Python 3",
   "language": "python",
   "name": "python3"
  },
  "language_info": {
   "codemirror_mode": {
    "name": "ipython",
    "version": 3
   },
   "file_extension": ".py",
   "mimetype": "text/x-python",
   "name": "python",
   "nbconvert_exporter": "python",
   "pygments_lexer": "ipython3",
   "version": "3.8.3"
  }
 },
 "nbformat": 4,
 "nbformat_minor": 4
}
